{
 "cells": [
  {
   "cell_type": "markdown",
   "metadata": {},
   "source": [
    "# Batch Antenna Analysis\n",
    "use if you have a folder of csvs and want to get figures and analyze your data"
   ]
  },
  {
   "cell_type": "code",
   "execution_count": 1,
   "metadata": {},
   "outputs": [],
   "source": [
    "# necessary libraries\n",
    "import os\n",
    "import pandas as pd \n",
    "import numpy as np\n",
    "import matplotlib.pyplot as plt\n",
    "import seaborn as sns\n",
    "\n",
    "# custom analysis functions (in analysis_functions.py)\n",
    "from analysis_functions import load_csv_data, plot_1d_raw_data, plot_kde, plot_2d_scatter, analyze_folder"
   ]
  },
  {
   "cell_type": "code",
   "execution_count": 2,
   "metadata": {},
   "outputs": [],
   "source": [
    "csv_filepath = '/Users/laurentakiguchi/Desktop/DNAntenna-Code/data/20230721_antenna/antenna50nick/ib30g/638_1000hz_0001trcsv/'\n",
    "pixel_size = 108 # nm\n",
    "fsample = 1000 # Hz\n",
    "save_folder = '/Users/laurentakiguchi/Desktop/test/'\n",
    "save_figs = 1 # 0 - don't save, 1 - save"
   ]
  },
  {
   "cell_type": "code",
   "execution_count": 3,
   "metadata": {},
   "outputs": [
    {
     "name": "stdout",
     "output_type": "stream",
     "text": [
      "MLE fitting failed to converge. Maximum number of function evaluations has been exceeded.\n",
      "Error processing PSD for 00059: zero-size array to reduction operation maximum which has no identity\n",
      "MLE fitting failed to converge. Maximum number of function evaluations has been exceeded.\n",
      "Error processing PSD for 00071: zero-size array to reduction operation maximum which has no identity\n",
      "MLE fitting failed to converge. Maximum number of function evaluations has been exceeded.\n",
      "Error processing PSD for 00065: zero-size array to reduction operation maximum which has no identity\n",
      "MLE fitting failed to converge. Maximum number of function evaluations has been exceeded.\n",
      "Error processing PSD for 00064: zero-size array to reduction operation maximum which has no identity\n",
      "MLE fitting failed to converge. Maximum number of function evaluations has been exceeded.\n",
      "Error processing PSD for 00070: zero-size array to reduction operation maximum which has no identity\n",
      "MLE fitting failed to converge. Maximum number of function evaluations has been exceeded.\n",
      "Error processing PSD for 00058: zero-size array to reduction operation maximum which has no identity\n",
      "MLE fitting failed to converge. Maximum number of function evaluations has been exceeded.\n",
      "Error processing PSD for 00099: zero-size array to reduction operation maximum which has no identity\n",
      "MLE fitting failed to converge. Maximum number of function evaluations has been exceeded.\n",
      "Error processing PSD for 00066: zero-size array to reduction operation maximum which has no identity\n",
      "MLE fitting failed to converge. Maximum number of function evaluations has been exceeded.\n",
      "Error processing PSD for 00072: zero-size array to reduction operation maximum which has no identity\n",
      "MLE fitting failed to converge. Maximum number of function evaluations has been exceeded.\n",
      "Error processing PSD for 00073: zero-size array to reduction operation maximum which has no identity\n",
      "MLE fitting failed to converge. Maximum number of function evaluations has been exceeded.\n",
      "Error processing PSD for 00067: zero-size array to reduction operation maximum which has no identity\n",
      "MLE fitting failed to converge. Maximum number of function evaluations has been exceeded.\n",
      "Error processing PSD for 00098: zero-size array to reduction operation maximum which has no identity\n",
      "MLE fitting failed to converge. Maximum number of function evaluations has been exceeded.\n",
      "Error processing PSD for 00088: zero-size array to reduction operation maximum which has no identity\n",
      "MLE fitting failed to converge. Maximum number of function evaluations has been exceeded.\n",
      "Error processing PSD for 00063: zero-size array to reduction operation maximum which has no identity\n",
      "MLE fitting failed to converge. Maximum number of function evaluations has been exceeded.\n",
      "Error processing PSD for 00077: zero-size array to reduction operation maximum which has no identity\n",
      "MLE fitting failed to converge. Maximum number of function evaluations has been exceeded.\n",
      "Error processing PSD for 00076: zero-size array to reduction operation maximum which has no identity\n",
      "MLE fitting failed to converge. Maximum number of function evaluations has been exceeded.\n",
      "Error processing PSD for 00062: zero-size array to reduction operation maximum which has no identity\n",
      "MLE fitting failed to converge. Maximum number of function evaluations has been exceeded.\n",
      "Error processing PSD for 00089: zero-size array to reduction operation maximum which has no identity\n",
      "MLE fitting failed to converge. Maximum number of function evaluations has been exceeded.\n",
      "Error processing PSD for 00074: zero-size array to reduction operation maximum which has no identity\n",
      "MLE fitting failed to converge. Maximum number of function evaluations has been exceeded.\n",
      "Error processing PSD for 00060: zero-size array to reduction operation maximum which has no identity\n",
      "MLE fitting failed to converge. Maximum number of function evaluations has been exceeded.\n",
      "Error processing PSD for 00048: zero-size array to reduction operation maximum which has no identity\n",
      "MLE fitting failed to converge. Maximum number of function evaluations has been exceeded.\n",
      "Error processing PSD for 00100: zero-size array to reduction operation maximum which has no identity\n",
      "MLE fitting failed to converge. Maximum number of function evaluations has been exceeded.\n",
      "Error processing PSD for 00049: zero-size array to reduction operation maximum which has no identity\n",
      "MLE fitting failed to converge. Maximum number of function evaluations has been exceeded.\n",
      "Error processing PSD for 00061: zero-size array to reduction operation maximum which has no identity\n",
      "MLE fitting failed to converge. Maximum number of function evaluations has been exceeded.\n",
      "Error processing PSD for 00075: zero-size array to reduction operation maximum which has no identity\n",
      "MLE fitting failed to converge. Maximum number of function evaluations has been exceeded.\n",
      "Error processing PSD for 00012: zero-size array to reduction operation maximum which has no identity\n",
      "MLE fitting failed to converge. Maximum number of function evaluations has been exceeded.\n",
      "Error processing PSD for 00006: zero-size array to reduction operation maximum which has no identity\n",
      "MLE fitting failed to converge. Maximum number of function evaluations has been exceeded.\n",
      "Error processing PSD for 00007: zero-size array to reduction operation maximum which has no identity\n",
      "MLE fitting failed to converge. Maximum number of function evaluations has been exceeded.\n",
      "Error processing PSD for 00013: zero-size array to reduction operation maximum which has no identity\n",
      "MLE fitting failed to converge. Maximum number of function evaluations has been exceeded.\n",
      "Error processing PSD for 00039: zero-size array to reduction operation maximum which has no identity\n"
     ]
    }
   ],
   "source": [
    "analyze_folder(csv_filepath, pixel_size, fsample, save_folder, save_figs)"
   ]
  },
  {
   "cell_type": "code",
   "execution_count": null,
   "metadata": {},
   "outputs": [],
   "source": []
  }
 ],
 "metadata": {
  "kernelspec": {
   "display_name": "origami",
   "language": "python",
   "name": "python3"
  },
  "language_info": {
   "codemirror_mode": {
    "name": "ipython",
    "version": 3
   },
   "file_extension": ".py",
   "mimetype": "text/x-python",
   "name": "python",
   "nbconvert_exporter": "python",
   "pygments_lexer": "ipython3",
   "version": "3.7.16"
  }
 },
 "nbformat": 4,
 "nbformat_minor": 2
}
