{
 "cells": [
  {
   "cell_type": "markdown",
   "metadata": {},
   "source": [
    "# Batch Antenna Analysis (CSV folder)\n",
    "use if you have a folder of csvs and want to get figures and analyze your data"
   ]
  },
  {
   "cell_type": "code",
   "execution_count": 1,
   "metadata": {},
   "outputs": [],
   "source": [
    "# necessary libraries\n",
    "import os\n",
    "import pandas as pd \n",
    "import numpy as np\n",
    "import matplotlib.pyplot as plt\n",
    "import seaborn as sns\n",
    "\n",
    "# custom analysis functions (in analysis_functions.py)\n",
    "from analysis_functions import analyze_folder"
   ]
  },
  {
   "cell_type": "code",
   "execution_count": 2,
   "metadata": {},
   "outputs": [],
   "source": [
    "csv_filepath = '/Users/laurentakiguchi/Desktop/DNAntenna-Code/data/20230721_antenna/antenna50nick/ib30g/638_1000hz_0001trcsv/'\n",
    "pixel_size = 108 # nm\n",
    "fsample = 1000 # Hz\n",
    "save_folder = '/Users/laurentakiguchi/Desktop/test/'\n",
    "save_figs = 1 # 0 - don't save, 1 - save"
   ]
  },
  {
   "cell_type": "code",
   "execution_count": 3,
   "metadata": {},
   "outputs": [
    {
     "name": "stdout",
     "output_type": "stream",
     "text": [
      "MLE fitting failed to converge. Maximum number of function evaluations has been exceeded.\n",
      "MLE fitting failed to converge. Maximum number of function evaluations has been exceeded.\n",
      "MLE fitting failed to converge. Maximum number of function evaluations has been exceeded.\n",
      "MLE fitting failed to converge. Maximum number of function evaluations has been exceeded.\n",
      "MLE fitting failed to converge. Maximum number of function evaluations has been exceeded.\n",
      "Folder analyzed successfully\n"
     ]
    }
   ],
   "source": [
    "analyze_folder(csv_filepath, pixel_size, fsample, save_folder, save_figs)"
   ]
  },
  {
   "cell_type": "code",
   "execution_count": null,
   "metadata": {},
   "outputs": [],
   "source": []
  }
 ],
 "metadata": {
  "kernelspec": {
   "display_name": "origami",
   "language": "python",
   "name": "python3"
  },
  "language_info": {
   "codemirror_mode": {
    "name": "ipython",
    "version": 3
   },
   "file_extension": ".py",
   "mimetype": "text/x-python",
   "name": "python",
   "nbconvert_exporter": "python",
   "pygments_lexer": "ipython3",
   "version": "3.7.16"
  }
 },
 "nbformat": 4,
 "nbformat_minor": 2
}
