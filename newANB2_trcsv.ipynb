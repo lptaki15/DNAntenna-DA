{
 "cells": [
  {
   "cell_type": "markdown",
   "metadata": {},
   "source": [
    "# Batch Antenna Analysis\n",
    "use if you have a folder of csvs and want to get figures and analyze your data"
   ]
  },
  {
   "cell_type": "code",
   "execution_count": 1,
   "metadata": {},
   "outputs": [],
   "source": [
    "# necessary libraries\n",
    "import os\n",
    "import pandas as pd \n",
    "import numpy as np\n",
    "import matplotlib.pyplot as plt\n",
    "import seaborn as sns\n",
    "\n",
    "# custom analysis functions (in analysis_functions.py)\n",
    "from analysis_functions import load_csv_data, plot_1d_raw_data, plot_kde, plot_2d_scatter, analyze_folder"
   ]
  },
  {
   "cell_type": "code",
   "execution_count": 2,
   "metadata": {},
   "outputs": [],
   "source": [
    "csv_filepath = '/Users/laurentakiguchi/Desktop/DNAntenna-Code/data/20230329_antenna_exp7/1000hz_75mW_ib30g(00004)trcsv/'\n",
    "pixel_size = 108 # nm\n",
    "fsample = 1000 # Hz\n",
    "save_folder = '/Users/laurentakiguchi/Desktop/test/'\n",
    "save_figs = 1 # 0 - don't save, 1 - save"
   ]
  },
  {
   "cell_type": "code",
   "execution_count": 3,
   "metadata": {},
   "outputs": [
    {
     "name": "stdout",
     "output_type": "stream",
     "text": [
      "MLE fitting failed to converge. Maximum number of function evaluations has been exceeded.\n",
      "Error processing PSD for 00006: zero-size array to reduction operation maximum which has no identity\n",
      "MLE fitting failed to converge. Maximum number of function evaluations has been exceeded.\n",
      "Error processing PSD for 00007: zero-size array to reduction operation maximum which has no identity\n",
      "MLE fitting failed to converge. Maximum number of function evaluations has been exceeded.\n",
      "Error processing PSD for 00013: zero-size array to reduction operation maximum which has no identity\n",
      "MLE fitting failed to converge. Maximum number of function evaluations has been exceeded.\n",
      "Error processing PSD for 00005: zero-size array to reduction operation maximum which has no identity\n",
      "MLE fitting failed to converge. Maximum number of function evaluations has been exceeded.\n",
      "Error processing PSD for 00010: zero-size array to reduction operation maximum which has no identity\n",
      "MLE fitting failed to converge. Maximum number of function evaluations has been exceeded.\n",
      "Error processing PSD for 00004: zero-size array to reduction operation maximum which has no identity\n",
      "MLE fitting failed to converge. Maximum number of function evaluations has been exceeded.\n",
      "Error processing PSD for 00000: zero-size array to reduction operation maximum which has no identity\n",
      "MLE fitting failed to converge. Maximum number of function evaluations has been exceeded.\n",
      "Error processing PSD for 00014: zero-size array to reduction operation maximum which has no identity\n",
      "MLE fitting failed to converge. Maximum number of function evaluations has been exceeded.\n",
      "Error processing PSD for 00015: zero-size array to reduction operation maximum which has no identity\n",
      "MLE fitting failed to converge. Maximum number of function evaluations has been exceeded.\n",
      "Error processing PSD for 00017: zero-size array to reduction operation maximum which has no identity\n",
      "MLE fitting failed to converge. Maximum number of function evaluations has been exceeded.\n",
      "Error processing PSD for 00003: zero-size array to reduction operation maximum which has no identity\n",
      "MLE fitting failed to converge. Maximum number of function evaluations has been exceeded.\n",
      "Error processing PSD for 00002: zero-size array to reduction operation maximum which has no identity\n",
      "MLE fitting failed to converge. Maximum number of function evaluations has been exceeded.\n",
      "Error processing PSD for 00016: zero-size array to reduction operation maximum which has no identity\n",
      "MLE fitting failed to converge. Maximum number of function evaluations has been exceeded.\n",
      "Error processing PSD for 00018: zero-size array to reduction operation maximum which has no identity\n",
      "MLE fitting failed to converge. Maximum number of function evaluations has been exceeded.\n",
      "Error processing PSD for 00019: zero-size array to reduction operation maximum which has no identity\n",
      "MLE fitting failed to converge. Maximum number of function evaluations has been exceeded.\n",
      "Error processing PSD for 00021: zero-size array to reduction operation maximum which has no identity\n",
      "MLE fitting failed to converge. Maximum number of function evaluations has been exceeded.\n",
      "Error processing PSD for 00008: zero-size array to reduction operation maximum which has no identity\n",
      "MLE fitting failed to converge. Maximum number of function evaluations has been exceeded.\n",
      "Error processing PSD for 00020: zero-size array to reduction operation maximum which has no identity\n",
      "MLE fitting failed to converge. Maximum number of function evaluations has been exceeded.\n",
      "Error processing PSD for 00022: zero-size array to reduction operation maximum which has no identity\n",
      "folder analyzed successfully\n"
     ]
    }
   ],
   "source": [
    "analyze_folder(csv_filepath, pixel_size, fsample, save_folder, save_figs)"
   ]
  },
  {
   "cell_type": "code",
   "execution_count": null,
   "metadata": {},
   "outputs": [],
   "source": []
  }
 ],
 "metadata": {
  "kernelspec": {
   "display_name": "origami",
   "language": "python",
   "name": "python3"
  },
  "language_info": {
   "codemirror_mode": {
    "name": "ipython",
    "version": 3
   },
   "file_extension": ".py",
   "mimetype": "text/x-python",
   "name": "python",
   "nbconvert_exporter": "python",
   "pygments_lexer": "ipython3",
   "version": "3.7.16"
  }
 },
 "nbformat": 4,
 "nbformat_minor": 2
}
